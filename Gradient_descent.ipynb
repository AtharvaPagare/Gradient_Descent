{
 "cells": [
  {
   "cell_type": "code",
   "execution_count": 2,
   "metadata": {},
   "outputs": [
    {
     "data": {
      "text/plain": [
       "[0.088936519937413458, 1.4777440851894448]"
      ]
     },
     "execution_count": 2,
     "metadata": {},
     "output_type": "execute_result"
    }
   ],
   "source": [
    "import numpy as np\n",
    "data = np.genfromtxt(\"datalr.csv\",delimiter = \",\")\n",
    "L = len(data)\n",
    "def total_error(data,b_current,m_current):\n",
    "    t_error = 0\n",
    "    for i in range(0,L):\n",
    "        X = data[i,0]\n",
    "        Y = data[i,1]\n",
    "        t_error += (Y-(m_current+b_current))**2\n",
    "    return t_error/L\n",
    "def calc_grad(data,b_current,m_current,alpha):\n",
    "    grad_b = 0\n",
    "    grad_m = 0\n",
    "    for i in range(0,L):\n",
    "        X = data[i,0]\n",
    "        Y = data[i,1]\n",
    "        grad_b += (-2/L)*(Y-(m_current*X+b_current))\n",
    "        grad_m += (-2/L)*X*(Y-(m_current*X+b_current))\n",
    "    new_b = b_current - (alpha*grad_b)\n",
    "    new_m = m_current - (alpha*grad_m)\n",
    "    return[new_b,new_m]\n",
    "def run_grad_descent(data,b_initial,m_initial,alpha,num_iterations):\n",
    "    b = b_initial\n",
    "    m = m_initial\n",
    "    for i in range(0,num_iterations):\n",
    "        b,m = calc_grad(data,b,m,alpha)\n",
    "    return [b,m]\n",
    "run_grad_descent(data,0,0,0.0001,1000)"
   ]
  },
  {
   "cell_type": "code",
   "execution_count": null,
   "metadata": {},
   "outputs": [],
   "source": []
  }
 ],
 "metadata": {
  "kernelspec": {
   "display_name": "Python 3",
   "language": "python",
   "name": "python3"
  },
  "language_info": {
   "codemirror_mode": {
    "name": "ipython",
    "version": 3
   },
   "file_extension": ".py",
   "mimetype": "text/x-python",
   "name": "python",
   "nbconvert_exporter": "python",
   "pygments_lexer": "ipython3",
   "version": "3.6.5"
  }
 },
 "nbformat": 4,
 "nbformat_minor": 2
}
